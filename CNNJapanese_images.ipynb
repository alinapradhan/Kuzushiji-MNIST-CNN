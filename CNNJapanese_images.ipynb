{
  "cells": [
    {
      "cell_type": "markdown",
      "metadata": {
        "id": "view-in-github",
        "colab_type": "text"
      },
      "source": [
        "<a href=\"https://colab.research.google.com/github/alinapradhan/Kuzushiji-MNIST-CNN/blob/main/CNNJapanese_images.ipynb\" target=\"_parent\"><img src=\"https://colab.research.google.com/assets/colab-badge.svg\" alt=\"Open In Colab\"/></a>"
      ]
    },
    {
      "cell_type": "code",
      "execution_count": null,
      "metadata": {
        "colab": {
          "background_save": true,
          "base_uri": "https://localhost:8080/"
        },
        "id": "Q-rV7SKkUFxC",
        "outputId": "ca7f1dd3-782d-47b1-fc5e-d301595985b5"
      },
      "outputs": [
        {
          "name": "stdout",
          "output_type": "stream",
          "text": [
            "Downloading kmnist-train-imgs.npz...\n",
            "Downloading kmnist-train-labels.npz...\n",
            "Downloading kmnist-test-imgs.npz...\n",
            "Downloading kmnist-test-labels.npz...\n"
          ]
        },
        {
          "name": "stderr",
          "output_type": "stream",
          "text": [
            "/usr/local/lib/python3.11/dist-packages/keras/src/layers/convolutional/base_conv.py:113: UserWarning: Do not pass an `input_shape`/`input_dim` argument to a layer. When using Sequential models, prefer using an `Input(shape)` object as the first layer in the model instead.\n",
            "  super().__init__(activity_regularizer=activity_regularizer, **kwargs)\n"
          ]
        },
        {
          "name": "stdout",
          "output_type": "stream",
          "text": [
            "Epoch 1/20\n",
            "\u001b[1m375/375\u001b[0m \u001b[32m━━━━━━━━━━━━━━━━━━━━\u001b[0m\u001b[37m\u001b[0m \u001b[1m40s\u001b[0m 102ms/step - accuracy: 0.7187 - loss: 0.8832 - val_accuracy: 0.9458 - val_loss: 0.1858\n",
            "Epoch 2/20\n",
            "\u001b[1m375/375\u001b[0m \u001b[32m━━━━━━━━━━━━━━━━━━━━\u001b[0m\u001b[37m\u001b[0m \u001b[1m38s\u001b[0m 101ms/step - accuracy: 0.9378 - loss: 0.2028 - val_accuracy: 0.9668 - val_loss: 0.1182\n",
            "Epoch 3/20\n",
            "\u001b[1m375/375\u001b[0m \u001b[32m━━━━━━━━━━━━━━━━━━━━\u001b[0m\u001b[37m\u001b[0m \u001b[1m39s\u001b[0m 95ms/step - accuracy: 0.9574 - loss: 0.1414 - val_accuracy: 0.9731 - val_loss: 0.0908\n",
            "Epoch 4/20\n",
            "\u001b[1m375/375\u001b[0m \u001b[32m━━━━━━━━━━━━━━━━━━━━\u001b[0m\u001b[37m\u001b[0m \u001b[1m43s\u001b[0m 100ms/step - accuracy: 0.9691 - loss: 0.0979 - val_accuracy: 0.9777 - val_loss: 0.0730\n",
            "Epoch 5/20\n",
            "\u001b[1m375/375\u001b[0m \u001b[32m━━━━━━━━━━━━━━━━━━━━\u001b[0m\u001b[37m\u001b[0m \u001b[1m40s\u001b[0m 97ms/step - accuracy: 0.9745 - loss: 0.0821 - val_accuracy: 0.9807 - val_loss: 0.0668\n",
            "Epoch 6/20\n",
            "\u001b[1m375/375\u001b[0m \u001b[32m━━━━━━━━━━━━━━━━━━━━\u001b[0m\u001b[37m\u001b[0m \u001b[1m36s\u001b[0m 96ms/step - accuracy: 0.9801 - loss: 0.0635 - val_accuracy: 0.9807 - val_loss: 0.0638\n",
            "Epoch 7/20\n",
            "\u001b[1m375/375\u001b[0m \u001b[32m━━━━━━━━━━━━━━━━━━━━\u001b[0m\u001b[37m\u001b[0m \u001b[1m41s\u001b[0m 96ms/step - accuracy: 0.9811 - loss: 0.0590 - val_accuracy: 0.9817 - val_loss: 0.0613\n",
            "Epoch 8/20\n",
            "\u001b[1m375/375\u001b[0m \u001b[32m━━━━━━━━━━━━━━━━━━━━\u001b[0m\u001b[37m\u001b[0m \u001b[1m36s\u001b[0m 96ms/step - accuracy: 0.9846 - loss: 0.0471 - val_accuracy: 0.9816 - val_loss: 0.0579\n",
            "Epoch 9/20\n",
            "\u001b[1m375/375\u001b[0m \u001b[32m━━━━━━━━━━━━━━━━━━━━\u001b[0m\u001b[37m\u001b[0m \u001b[1m40s\u001b[0m 95ms/step - accuracy: 0.9863 - loss: 0.0401 - val_accuracy: 0.9821 - val_loss: 0.0576\n",
            "Epoch 10/20\n",
            "\u001b[1m375/375\u001b[0m \u001b[32m━━━━━━━━━━━━━━━━━━━━\u001b[0m\u001b[37m\u001b[0m \u001b[1m42s\u001b[0m 98ms/step - accuracy: 0.9862 - loss: 0.0394 - val_accuracy: 0.9838 - val_loss: 0.0545\n",
            "Epoch 11/20\n",
            "\u001b[1m375/375\u001b[0m \u001b[32m━━━━━━━━━━━━━━━━━━━━\u001b[0m\u001b[37m\u001b[0m \u001b[1m39s\u001b[0m 93ms/step - accuracy: 0.9874 - loss: 0.0362 - val_accuracy: 0.9848 - val_loss: 0.0516\n",
            "Epoch 12/20\n",
            "\u001b[1m375/375\u001b[0m \u001b[32m━━━━━━━━━━━━━━━━━━━━\u001b[0m\u001b[37m\u001b[0m \u001b[1m42s\u001b[0m 94ms/step - accuracy: 0.9887 - loss: 0.0352 - val_accuracy: 0.9845 - val_loss: 0.0524\n",
            "Epoch 13/20\n",
            "\u001b[1m375/375\u001b[0m \u001b[32m━━━━━━━━━━━━━━━━━━━━\u001b[0m\u001b[37m\u001b[0m \u001b[1m35s\u001b[0m 95ms/step - accuracy: 0.9900 - loss: 0.0290 - val_accuracy: 0.9847 - val_loss: 0.0544\n",
            "Epoch 14/20\n",
            "\u001b[1m375/375\u001b[0m \u001b[32m━━━━━━━━━━━━━━━━━━━━\u001b[0m\u001b[37m\u001b[0m \u001b[1m40s\u001b[0m 93ms/step - accuracy: 0.9903 - loss: 0.0290 - val_accuracy: 0.9827 - val_loss: 0.0613\n"
          ]
        },
        {
          "name": "stderr",
          "output_type": "stream",
          "text": [
            "WARNING:absl:You are saving your model as an HDF5 file via `model.save()` or `keras.saving.save_model(model)`. This file format is considered legacy. We recommend using instead the native Keras format, e.g. `model.save('my_model.keras')` or `keras.saving.save_model(model, 'my_model.keras')`. \n"
          ]
        },
        {
          "name": "stdout",
          "output_type": "stream",
          "text": [
            "Test Accuracy: 0.9523\n",
            "Model saved as kuzushiji_mnist_cnn.h5\n"
          ]
        }
      ],
      "source": [
        "import numpy as np\n",
        "import requests\n",
        "import os\n",
        "import tensorflow as tf\n",
        "from tensorflow.keras.models import Sequential\n",
        "from tensorflow.keras.layers import Conv2D, MaxPooling2D, Flatten, Dense, Dropout\n",
        "from tensorflow.keras.utils import to_categorical\n",
        "from tensorflow.keras.callbacks import EarlyStopping\n",
        "\n",
        "\n",
        "# 1. Download Kuzushiji-MNIST (.npz)\n",
        "base_url = \"http://codh.rois.ac.jp/kmnist/dataset/kmnist/\"\n",
        "files = [\n",
        "    \"kmnist-train-imgs.npz\",\n",
        "    \"kmnist-train-labels.npz\",\n",
        "    \"kmnist-test-imgs.npz\",\n",
        "    \"kmnist-test-labels.npz\"\n",
        "]\n",
        "\n",
        "os.makedirs(\"kmnist_data\", exist_ok=True)\n",
        "\n",
        "for fname in files:\n",
        "    path = os.path.join(\"kmnist_data\", fname)\n",
        "    if not os.path.exists(path):\n",
        "        print(f\"Downloading {fname}...\")\n",
        "        url = base_url + fname\n",
        "        r = requests.get(url)\n",
        "        with open(path, \"wb\") as f:\n",
        "            f.write(r.content)\n",
        "    else:\n",
        "        print(f\"{fname} already exists. Skipping download.\")\n",
        "\n",
        "\n",
        "# 2. Load data\n",
        "train_images = np.load(\"kmnist_data/kmnist-train-imgs.npz\")['arr_0']\n",
        "train_labels = np.load(\"kmnist_data/kmnist-train-labels.npz\")['arr_0']\n",
        "test_images = np.load(\"kmnist_data/kmnist-test-imgs.npz\")['arr_0']\n",
        "test_labels = np.load(\"kmnist_data/kmnist-test-labels.npz\")['arr_0']\n",
        "\n",
        "# 3. Preprocess\n",
        "train_images = train_images.reshape(-1, 28, 28, 1).astype(\"float32\") / 255.0\n",
        "test_images = test_images.reshape(-1, 28, 28, 1).astype(\"float32\") / 255.0\n",
        "\n",
        "train_labels = to_categorical(train_labels, 10)\n",
        "test_labels = to_categorical(test_labels, 10)\n",
        "\n",
        "\n",
        "# 4. Define CNN model\n",
        "model = Sequential([\n",
        "    Conv2D(32, (3, 3), activation='relu', input_shape=(28,28,1)),\n",
        "    MaxPooling2D((2, 2)),\n",
        "\n",
        "    Conv2D(64, (3, 3), activation='relu'),\n",
        "    MaxPooling2D((2, 2)),\n",
        "\n",
        "    Flatten(),\n",
        "    Dropout(0.5),\n",
        "    Dense(128, activation='relu'),\n",
        "    Dense(10, activation='softmax')\n",
        "])\n",
        "\n",
        "model.compile(optimizer='adam',\n",
        "              loss='categorical_crossentropy',\n",
        "              metrics=['accuracy'])\n",
        "\n",
        "\n",
        "# 5. Train model\n",
        "early_stop = EarlyStopping(monitor='val_loss', patience=3, restore_best_weights=True)\n",
        "\n",
        "history = model.fit(train_images, train_labels,\n",
        "                    validation_split=0.2,\n",
        "                    epochs=20,\n",
        "                    batch_size=128,\n",
        "                    callbacks=[early_stop],\n",
        "                    verbose=1)\n",
        "\n",
        "\n",
        "# 6. Evaluate\n",
        "test_loss, test_acc = model.evaluate(test_images, test_labels, verbose=0)\n",
        "print(f\"Test Accuracy: {test_acc:.4f}\")\n",
        "\n",
        "\n",
        "# 7. Save model\n",
        "model.save(\"kuzushiji_mnist_cnn.h5\")\n",
        "print(\"Model saved as kuzushiji_mnist_cnn.h5\")\n"
      ]
    },
    {
      "cell_type": "code",
      "execution_count": null,
      "metadata": {
        "id": "FONCWsFxUTWD"
      },
      "outputs": [],
      "source": []
    }
  ],
  "metadata": {
    "colab": {
      "provenance": [],
      "authorship_tag": "ABX9TyPjZvVKC/+6VgbCd8zI5U7N",
      "include_colab_link": true
    },
    "kernelspec": {
      "display_name": "Python 3",
      "name": "python3"
    },
    "language_info": {
      "name": "python"
    }
  },
  "nbformat": 4,
  "nbformat_minor": 0
}